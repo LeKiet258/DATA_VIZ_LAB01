{
  "cells": [
    {
      "cell_type": "markdown",
      "metadata": {
        "id": "IvA_4-zM4Uf-"
      },
      "source": [
        "# Imports"
      ]
    },
    {
      "cell_type": "code",
      "execution_count": null,
      "metadata": {
        "colab": {
          "base_uri": "https://localhost:8080/"
        },
        "id": "_TYJg7DHvaOH",
        "outputId": "10ab7eb0-799a-491d-da5f-c30526304b06"
      },
      "outputs": [],
      "source": [
        "import pandas as pd\n",
        "import numpy as np\n",
        "import matplotlib.pyplot as plt\n",
        "import seaborn as sns\n",
        "import random"
      ]
    },
    {
      "cell_type": "code",
      "execution_count": null,
      "metadata": {
        "colab": {
          "base_uri": "https://localhost:8080/",
          "height": 206
        },
        "id": "mm9lv7dpvebr",
        "outputId": "a649129d-eea8-44fc-c0ab-90fb6b481f1a"
      },
      "outputs": [],
      "source": [
        "data_df = pd.read_csv(f'Worldometer-data-preprocessed/table_18-04-2022_preprocessed.csv')\n",
        "data_df.head()"
      ]
    },
    {
      "cell_type": "code",
      "execution_count": null,
      "metadata": {
        "colab": {
          "base_uri": "https://localhost:8080/",
          "height": 206
        },
        "id": "MrhyefYV9CU_",
        "outputId": "63a58f92-545b-45af-d4dd-3136f3f9a087"
      },
      "outputs": [],
      "source": [
        "week_df = pd.read_csv(f'Worldometer-data-preprocessed/data_1_week.csv')\n",
        "week_df.head()"
      ]
    },
    {
      "cell_type": "markdown",
      "metadata": {
        "id": "oVFlpW3T4O6p"
      },
      "source": [
        "# Trực quan các mối quan hệ giữa các trường dữ liệu"
      ]
    },
    {
      "cell_type": "markdown",
      "metadata": {
        "id": "4juC6wZm4ZVW"
      },
      "source": [
        "## 1. Một trường đơn"
      ]
    },
    {
      "cell_type": "markdown",
      "metadata": {
        "id": "IaP2Huyx5IJW"
      },
      "source": [
        "### a) Total Cases"
      ]
    },
    {
      "cell_type": "code",
      "execution_count": null,
      "metadata": {
        "colab": {
          "base_uri": "https://localhost:8080/",
          "height": 265
        },
        "id": "i0RtVsGx4eK4",
        "outputId": "ca0b6dc6-7fdd-4a84-a95c-785ecae3f78e"
      },
      "outputs": [],
      "source": [
        "tcdf = data_df.groupby('continent')[['Total Cases', 'Population']].sum()\n",
        "tcdf['Total Cases'] = tcdf['Total Cases']/tcdf['Population']\n",
        "tcdf['Total Cases'].plot.barh();"
      ]
    },
    {
      "cell_type": "markdown",
      "metadata": {
        "id": "oKJ2TsQf7XHt"
      },
      "source": [
        "Nhận xét: tổng số ca nhiễm ở châu Âu nhiều nhất"
      ]
    },
    {
      "cell_type": "markdown",
      "metadata": {
        "id": "L73_8fJZ7jYR"
      },
      "source": [
        "### b) Total Deaths"
      ]
    },
    {
      "cell_type": "code",
      "execution_count": null,
      "metadata": {
        "colab": {
          "base_uri": "https://localhost:8080/",
          "height": 206
        },
        "id": "OdA-Njhh4d75",
        "outputId": "536f831c-8885-4aee-e970-4bd7686c19d8"
      },
      "outputs": [],
      "source": [
        "df = week_df.groupby(['continent', 'day'])[['Total Deaths']].sum()\n",
        "df = df.reset_index()\n",
        "df.head()"
      ]
    },
    {
      "cell_type": "code",
      "execution_count": null,
      "metadata": {},
      "outputs": [],
      "source": [
        "plt.figure(figsize=(13, 17))\n",
        "\n",
        "ax = plt.subplot(4,2,(1,2))\n",
        "sns.lineplot(data=df, x='day', y='Total Deaths', hue='continent', ax=ax);\n",
        "ax.legend(loc='center left', bbox_to_anchor=(1, 0.5));\n",
        "ax.set_xlabel('')\n",
        "\n",
        "\n",
        "for i, continent in enumerate(df['continent'].unique(), 3):\n",
        "    continent_df = df.loc[df['continent'] == continent, 'Total Deaths']\n",
        "    ax = plt.subplot(4,2,i)\n",
        "\n",
        "    continent_df = df.loc[df['continent'] == continent, ['day', 'Total Deaths']].set_index('day')\n",
        "    continent_df.plot.line(ax=ax, legend=None, title=continent, ylabel='Total Deaths', xlabel='')\n",
        "    # rút gọn xtick từ dd-mm-yyy về dd-mm\n",
        "    xticks = ax.get_xticks() # [-1, 0, 1,...]\n",
        "    trunc_labels = [d[0:5] for d in continent_df.index]\n",
        "    plt.xticks(xticks[1:], trunc_labels);"
      ]
    },
    {
      "cell_type": "markdown",
      "metadata": {
        "id": "59WPorzNq4rY"
      },
      "source": [
        "Nhận xét: Tổng người chết (`Total Deaths`) của mỗi châu lục trong 1 tuần từ 18/4/2022 tới 25/4/2022 không có sự thay đổi rõ rệt, gần như chỉ tăng 1 lượng ít"
      ]
    },
    {
      "cell_type": "markdown",
      "metadata": {
        "id": "Obc15cDxyGUC"
      },
      "source": [
        "### c) New Cases, New Deaths, New Recovered\n",
        "- Ta sẽ xem xét 3 cột này trong 1 tuần, từ 18/4/2022 - 25/4/2022"
      ]
    },
    {
      "cell_type": "code",
      "execution_count": null,
      "metadata": {
        "colab": {
          "base_uri": "https://localhost:8080/",
          "height": 206
        },
        "id": "Cn4dYP0q1Jcg",
        "outputId": "a5017454-4385-426d-dba9-77d514c9a959"
      },
      "outputs": [],
      "source": [
        "# data 18-04\n",
        "df = data_df.groupby('continent')[['New Cases', 'New Deaths', 'New Recovered']].sum().reset_index()\n",
        "df['day'] = 18\n",
        "\n",
        "# data 25-04\n",
        "df_25 = pd.read_csv(f'Worldometer-data-preprocessed/table_25-04-2022_preprocessed.csv')\n",
        "df_25 = df_25.groupby('continent')[['New Cases', 'New Deaths', 'New Recovered']].sum().reset_index()\n",
        "df_25['day'] = 25\n",
        "\n",
        "df = pd.concat([df, df_25], axis=0)\n",
        "df.head()"
      ]
    },
    {
      "cell_type": "markdown",
      "metadata": {
        "id": "ok9C_sMnnmiv"
      },
      "source": [
        "- Góc nhìn từ slope graph"
      ]
    },
    {
      "cell_type": "code",
      "execution_count": null,
      "metadata": {},
      "outputs": [],
      "source": [
        "cols = ['New Cases', 'New Deaths', 'New Recovered']\n",
        "continents = df['continent'].unique()\n",
        "plt.figure(figsize=(16, 14))\n",
        "\n",
        "for i, col in enumerate(cols, 1):\n",
        "    ax = plt.subplot(1,3,i)\n",
        "    for continent in continents:\n",
        "        temp = df[df['continent'] == continent]\n",
        "        plt.plot(temp['day'], temp[col], marker='o', markersize=5)\n",
        "        plt.text(temp['day'].values[1]+0.1, temp[col].values[1], int(temp[col].values[1]))\n",
        "        plt.text(temp['day'].values[0]-0.1, temp[col].values[0], int(temp[col].values[0]), va='center', ha='right')\n",
        "\n",
        "    # x limits, x ticks\n",
        "    plt.xlim(15.5, 27.5)\n",
        "    plt.xticks([18, 25], ['18/04', '25/04'])\n",
        "\n",
        "    # get y ticks, replace 1,000 with k, and draw the ticks\n",
        "    yticks = plt.yticks()[0]\n",
        "    plt.yticks([])\n",
        "\n",
        "    # title\n",
        "    plt.title(col)\n",
        "\n",
        "    # grid\n",
        "    ax.xaxis.grid(color='black', linestyle='solid', which='both', alpha=0.9)\n",
        "\n",
        "    # remove spines\n",
        "    ax.spines['right'].set_visible(False)\n",
        "    ax.spines['left'].set_visible(False)\n",
        "    ax.spines['bottom'].set_visible(False)\n",
        "    ax.spines['top'].set_visible(False)\n",
        "\n",
        "    if i==3:\n",
        "        plt.legend(continents, loc='center left', bbox_to_anchor=(0.8, 0.5));"
      ]
    },
    {
      "cell_type": "markdown",
      "metadata": {
        "id": "fG3zUMo8MeQm"
      },
      "source": [
        "Nhận xét: \n",
        "- `New Cases`:\n",
        "- `New Deaths`\n",
        "- `New Recovered`"
      ]
    },
    {
      "cell_type": "markdown",
      "metadata": {
        "id": "N43C0fAwnjjh"
      },
      "source": [
        "- Góc nhìn từ area plot:"
      ]
    },
    {
      "cell_type": "code",
      "execution_count": null,
      "metadata": {
        "colab": {
          "base_uri": "https://localhost:8080/",
          "height": 1000
        },
        "id": "jpjZtNJCdZg7",
        "outputId": "1abe8d6c-5d7a-4a76-b9b5-84bc908dbe01"
      },
      "outputs": [],
      "source": [
        "## AREA PLOT: 3 subplot (mỗi cái đại diện cho 1 cột new/subplot, mỗi subplot chứa 7 đường tương ứng 7 châu) ##\n",
        "plt.style.use('seaborn')\n",
        "df = week_df.groupby(['continent', 'day'])[['New Cases', 'New Deaths', 'New Recovered']].agg(sum)\n",
        "\n",
        "for i, col in enumerate(['New Cases', 'New Deaths', 'New Recovered'], 1):\n",
        "  ax = plt.subplot(3,1,i)\n",
        "  df_col = df[[col]].reset_index(0)\n",
        "  df_col = df_col.pivot_table(values=col, index=df_col.index, columns='continent')\n",
        "  df_col.plot.area(stacked=True, ax=ax, figsize=(12,20));\n",
        "  plt.legend(bbox_to_anchor=(1.04,1), loc=\"upper left\")"
      ]
    },
    {
      "cell_type": "markdown",
      "metadata": {
        "id": "qiXf6Qe0oOH3"
      },
      "source": [
        "Nhận xét: ..."
      ]
    },
    {
      "cell_type": "markdown",
      "metadata": {
        "id": "RyvZKL1JK89L"
      },
      "source": [
        "### d) New Deaths\n",
        "- Ta sẽ xem xét cột này trong 1 tuần, từ 18/4/2022 - 25/4/2022"
      ]
    },
    {
      "cell_type": "code",
      "execution_count": null,
      "metadata": {
        "colab": {
          "base_uri": "https://localhost:8080/",
          "height": 206
        },
        "id": "Eq2esvBfuEp9",
        "outputId": "1206eb12-8a20-4346-cf82-d6c7a254a299"
      },
      "outputs": [],
      "source": [
        "world_df = week_df.groupby(['day'])['New Deaths'].agg(sum)\n",
        "world_df = world_df.reset_index()\n",
        "\n",
        "world_df.head()"
      ]
    },
    {
      "cell_type": "code",
      "execution_count": null,
      "metadata": {
        "id": "rb537Kn0uEnc"
      },
      "outputs": [],
      "source": [
        "world_new_death_mean = world_df['New Deaths'].mean()\n",
        "\n",
        "world_df['Status'] = world_df['New Deaths'].apply(lambda x: 'Extreme' if x > world_new_death_mean else 'Normal')"
      ]
    },
    {
      "cell_type": "code",
      "execution_count": null,
      "metadata": {
        "colab": {
          "base_uri": "https://localhost:8080/",
          "height": 621
        },
        "id": "jurshUWCuElB",
        "outputId": "49b57a4b-d76b-4c9b-e3e8-291f2efc87a6"
      },
      "outputs": [],
      "source": [
        "plt.figure(figsize=(15, 10))\n",
        "\n",
        "sns.barplot(x='day', y='New Deaths', data=world_df, hue='Status', palette='tab10')\n",
        "\n",
        "plt.axhline(world_new_death_mean,ls='--');\n",
        "plt.title('World New Deaths Record');"
      ]
    },
    {
      "cell_type": "markdown",
      "metadata": {
        "id": "VJgksbPUxB7X"
      },
      "source": [
        "Trong 3 ngày 19/04/2022 $\\to$ 21/04/2022, số lượng ca tử vong mới tăng nhiều hơn hẳn các ngày còn lại.<br>\n",
        "Tiến hành xem kỹ hơn số liệu của 3 ngày này."
      ]
    },
    {
      "cell_type": "code",
      "execution_count": null,
      "metadata": {
        "colab": {
          "base_uri": "https://localhost:8080/",
          "height": 206
        },
        "id": "_pLsQuSXlEcC",
        "outputId": "1f0a6fb5-f50f-44c9-f7d7-7726d9a9cfa3"
      },
      "outputs": [],
      "source": [
        "df = week_df.groupby(['continent', 'day'])['New Deaths'].agg(sum)\n",
        "df = df.reset_index()\n",
        "df.head()"
      ]
    },
    {
      "cell_type": "code",
      "execution_count": null,
      "metadata": {
        "colab": {
          "base_uri": "https://localhost:8080/",
          "height": 206
        },
        "id": "sVLNMfGklFGX",
        "outputId": "4b579479-6cb1-4404-c064-d09aaa922d65"
      },
      "outputs": [],
      "source": [
        "df = df[df['day'].isin(['19-04-2022', '20-04-2022', '21-04-2022'])]\n",
        "df.head()"
      ]
    },
    {
      "cell_type": "markdown",
      "metadata": {},
      "source": [
        "Xét ngày 19-04-2022"
      ]
    },
    {
      "cell_type": "code",
      "execution_count": null,
      "metadata": {
        "id": "ZL-BqKVgs37H"
      },
      "outputs": [],
      "source": [
        "plt.figure(figsize=(25, 18))\n",
        "plt.style.use('ggplot')\n",
        "\n",
        "for i, d in enumerate(['19-04-2022', '20-04-2022', '21-04-2022']):\n",
        "    plt.subplot(1, 3, i + 1)\n",
        "\n",
        "    new_df = df[df['day'] == d]\n",
        "\n",
        "    plt.pie(x=new_df['New Deaths'], labels=new_df['continent'], autopct='%.0f%%');\n",
        "    plt.title(d)"
      ]
    },
    {
      "cell_type": "markdown",
      "metadata": {},
      "source": [
        "Nhận xét: ....<br>\n",
        "\n",
        "Có quan hệ nhân quả nào ở đây không?"
      ]
    },
    {
      "cell_type": "markdown",
      "metadata": {
        "id": "4igqudi24egm"
      },
      "source": [
        "## 2. Nhiều trường"
      ]
    },
    {
      "cell_type": "markdown",
      "metadata": {
        "id": "vC94CnCGGpm0"
      },
      "source": [
        "### Total Deaths ~ Total Recovered"
      ]
    },
    {
      "cell_type": "code",
      "execution_count": null,
      "metadata": {
        "colab": {
          "base_uri": "https://localhost:8080/",
          "height": 238
        },
        "id": "8JCENozvGv-_",
        "outputId": "bf7fd264-a0be-434b-e3c4-46d7e147701b"
      },
      "outputs": [],
      "source": [
        "df = data_df[['Country', 'Total Recovered', 'Total Deaths']].set_index('Country')\n",
        "df['Total Deaths'] = df['Total Deaths']\n",
        "df.head()"
      ]
    },
    {
      "cell_type": "code",
      "execution_count": null,
      "metadata": {
        "colab": {
          "base_uri": "https://localhost:8080/",
          "height": 780
        },
        "id": "SWNl_6lSGv5A",
        "outputId": "1aa6353c-d322-493f-ce74-b8a6fbf90089"
      },
      "outputs": [],
      "source": [
        "plt.style.use('seaborn-whitegrid') # fast\n",
        "_df = df.iloc[:30]\n",
        "font_color = '#525252'\n",
        "hfont = {'fontname':'Calibri'}\n",
        "facecolor = '#eaeaf2'\n",
        "color_red = '#fd625e'\n",
        "color_blue = '#01b8aa'\n",
        "index = _df.index\n",
        "fig, axes = plt.subplots(figsize=(15,13), facecolor=facecolor, ncols=2, sharey=True)\n",
        "fig.tight_layout() #adjusts subplot params so that subplots are nicely fit in the figure.\n",
        "\n",
        "axes[0].barh(index, _df['Total Deaths'], align='center', color=color_red, zorder=10)\n",
        "axes[0].set_title('Total Deaths (in millions)', fontsize=18, pad=2, color=color_red, **hfont)\n",
        "axes[1].barh(index, _df['Total Recovered'], align='center', color=color_blue, zorder=10)\n",
        "axes[1].set_title('Total Recovered (in millions)', fontsize=18, pad=2, color=color_blue, **hfont)\n",
        "axes[0].invert_xaxis()\n",
        "plt.gca().invert_yaxis()\n",
        "\n",
        "axes[0].set(yticks=index, yticklabels=index)\n",
        "axes[0].yaxis.tick_left()\n",
        "axes[0].tick_params(axis='y', colors='white') # tick color\n",
        "\n",
        "# thay đổi xticks labels\n",
        "axes[1].set_xticks(np.array([10, 20, 30, 40, 50, 60, 70, 80])*1e6)\n",
        "axes[1].yaxis.set_tick_params(size=0)\n",
        "axes[1].set_xticklabels([10, 20, 30, 40, 50, 60, 70, 80])\n",
        "\n",
        "# thay đổi xticks labels\n",
        "axes[0].set_xticks(axes[0].get_xticks()[1:])\n",
        "axes[0].set_xticklabels([-1, 0.8, 0.6, 0.4, 0.2, 0])\n",
        "\n",
        "for label in (axes[0].get_xticklabels() + axes[0].get_yticklabels()):\n",
        "    label.set(fontsize=13, color=font_color, **hfont)\n",
        "for label in (axes[1].get_xticklabels() + axes[1].get_yticklabels()):\n",
        "    label.set(fontsize=13, color=font_color, **hfont)    \n",
        "\n",
        "plt.subplots_adjust(wspace=0, top=0.85, bottom=0.1, left=0.18, right=0.95) #wspace=0 for no gap between the two axes"
      ]
    },
    {
      "cell_type": "markdown",
      "metadata": {
        "id": "ez5R2b8dYySQ"
      },
      "source": [
        "Nhận xét: ..."
      ]
    },
    {
      "cell_type": "markdown",
      "metadata": {
        "id": "eF9CYYZrcPxP"
      },
      "source": [
        "### Population ~ Total Recovered ~ Total Deaths"
      ]
    },
    {
      "cell_type": "code",
      "execution_count": null,
      "metadata": {
        "colab": {
          "base_uri": "https://localhost:8080/",
          "height": 825
        },
        "id": "2RmQwELYZLf2",
        "outputId": "066acb44-6bf7-4884-ad02-9f0f31897bc3"
      },
      "outputs": [],
      "source": [
        "plt.style.use('default')\n",
        "\n",
        "# bar group chart\n",
        "df = data_df[['Country', 'Total Recovered', 'Total Deaths', 'Population']][:30].set_index('Country')\n",
        "df.plot.barh(figsize=(17,15))"
      ]
    },
    {
      "cell_type": "code",
      "execution_count": null,
      "metadata": {
        "colab": {
          "base_uri": "https://localhost:8080/",
          "height": 482
        },
        "id": "m8yavlOIgP3k",
        "outputId": "a1fc187e-0f3a-47cc-cda1-953cddd2610f"
      },
      "outputs": [],
      "source": [
        "df.plot.scatter(x='Population', y='Total Recovered')"
      ]
    },
    {
      "cell_type": "markdown",
      "metadata": {
        "id": "Rl1GmIizSRCq"
      },
      "source": [
        "### Active Cases ~ Total Deaths ~ Total Recovered"
      ]
    },
    {
      "cell_type": "code",
      "execution_count": null,
      "metadata": {
        "colab": {
          "base_uri": "https://localhost:8080/",
          "height": 347
        },
        "id": "ZSKZGQcF46U6",
        "outputId": "ff38c99e-e3d9-4bfa-99a3-216a6be83102"
      },
      "outputs": [],
      "source": [
        "df = data_df.groupby('continent')[['Active Cases', 'Total Deaths', 'Total Recovered', 'Total Cases']].sum()\n",
        "df['Active Cases'] = df['Active Cases'] / df['Total Cases']\n",
        "df['Total Deaths'] = df['Total Deaths'] / df['Total Cases']\n",
        "df['Total Recovered'] = df['Total Recovered'] / df['Total Cases']\n",
        "df.drop(columns=['Total Cases'], inplace=True)\n",
        "df.plot.barh(stacked=True);"
      ]
    },
    {
      "cell_type": "markdown",
      "metadata": {
        "id": "-RiYsP5GYvid"
      },
      "source": [
        "Nhận xét: `Total Cases` cấu thành từ 3 phần: `Active Cases`, `Total Deaths` (chiếm ít nhất) & `Total Recovered` (chiếm nhiều nhất)"
      ]
    },
    {
      "cell_type": "markdown",
      "metadata": {
        "id": "zMliaztbqOV5"
      },
      "source": [
        "### `Total Cases` ~ (`Active Cases`, `Total Deaths`, `Total Recovered`)"
      ]
    },
    {
      "cell_type": "markdown",
      "metadata": {
        "id": "Xl5xJcXRDvLr"
      },
      "source": [
        "- Ref: https://pbpython.com/waterfall-chart.html"
      ]
    },
    {
      "cell_type": "code",
      "execution_count": null,
      "metadata": {
        "id": "_2crDZDbqUoS"
      },
      "outputs": [],
      "source": [
        "world_18 = data_df[['Total Cases', 'Active Cases', 'Total Deaths', 'Total Recovered']].sum()\n",
        "df_25 = pd.read_csv(f'Worldometer-data-preprocessed/table_25-04-2022_preprocessed.csv')\n",
        "world_25 = df_25[['Total Cases', 'Active Cases', 'Total Deaths', 'Total Recovered']].sum()"
      ]
    },
    {
      "cell_type": "code",
      "execution_count": null,
      "metadata": {
        "colab": {
          "base_uri": "https://localhost:8080/",
          "height": 175
        },
        "id": "eX68T-hTvpxp",
        "outputId": "a0777559-415e-4f49-f42a-f36cbcbea9ae"
      },
      "outputs": [],
      "source": [
        "df = world_18[['Total Cases']]\n",
        "df = pd.concat([df,\n",
        "                world_25[['Active Cases']] - world_18[['Active Cases']],\n",
        "                world_25[['Total Deaths']] - world_18[['Total Deaths']],\n",
        "                world_25[['Total Recovered']] - world_18[['Total Recovered']]])\n",
        "df = pd.DataFrame(df, columns=['amount'])\n",
        "df.rename({'Total Cases':'Total Cases (18/4)'}, inplace=True)\n",
        "df"
      ]
    },
    {
      "cell_type": "code",
      "execution_count": null,
      "metadata": {
        "id": "ORh9D5PAzG0L"
      },
      "outputs": [],
      "source": [
        "blank= df['amount'].cumsum().shift(1).fillna(0)\n",
        "total = df.sum().amount\n",
        "\n",
        "df.loc[\"Total Cases (25/4)\"] = total\n",
        "blank.loc[\"Total Cases (25/4)\"] = total"
      ]
    },
    {
      "cell_type": "code",
      "execution_count": null,
      "metadata": {
        "id": "igX3XOLszcVb"
      },
      "outputs": [],
      "source": [
        "step = blank.reset_index(drop=True).repeat(3).shift(-1)\n",
        "step[1::3] = np.nan\n",
        "# step"
      ]
    },
    {
      "cell_type": "code",
      "execution_count": null,
      "metadata": {
        "id": "Iy1hTRyMzmTy"
      },
      "outputs": [],
      "source": [
        "#When plotting the last element, we want to show the full bar\n",
        "blank.loc[\"Total Cases (25/4)\"] = 0"
      ]
    },
    {
      "cell_type": "code",
      "execution_count": null,
      "metadata": {
        "colab": {
          "base_uri": "https://localhost:8080/",
          "height": 379
        },
        "id": "7g1wt3dMzntt",
        "outputId": "c447c915-5055-41fb-9f34-278cc927a37d"
      },
      "outputs": [],
      "source": [
        "plt.figure(figsize=(15,8))\n",
        "ax = df.plot(kind='bar', stacked=True, bottom=blank, legend=None, title=\"Total Cases Progress\", rot=0)\n",
        "ax.plot(step.index, step.values, 'k')\n",
        "# ax.set_ylim(bottom= 5.02 * 1e8);\n",
        "\n",
        "y_height = df.amount.cumsum().shift(1).fillna(0)\n",
        "max = df.max()\n",
        "neg_offset = max / 400\n",
        "pos_offset = max / 500\n",
        "plot_offset = int(max / 15)\n",
        "loop = 0\n",
        "for index, row in df.iterrows():\n",
        "    # For the last item in the list, we don't want to double count\n",
        "    if row['amount'] == total:\n",
        "        y = y_height[loop]\n",
        "    else:\n",
        "        y = y_height[loop] + row['amount']\n",
        "    # Determine if we want a neg or pos offset\n",
        "    if row['amount'] > 0:\n",
        "        y += pos_offset\n",
        "    else:\n",
        "        y -= neg_offset\n",
        "    ax.annotate(\"{:,.0f}\".format(row['amount']),(loop,y),ha=\"center\")\n",
        "    loop+=1\n",
        "\n",
        "#Scale up the y axis so there is room for the labels\n",
        "ax.set_ylim(5 * 1e8, blank.max()+int(plot_offset));   \n",
        "\n",
        "ax.get_children()[1].set_color('red')\n",
        "ax.get_children()[0].set_color('cyan')\n",
        "ax.get_children()[4].set_color('cyan')\n",
        "ax.get_children()[3].set_color('green')"
      ]
    },
    {
      "cell_type": "markdown",
      "metadata": {
        "id": "uo2wR1mjLBr4"
      },
      "source": [
        "Nhận xét: ..."
      ]
    },
    {
      "cell_type": "markdown",
      "metadata": {
        "id": "A2fGeMzRZ1kC"
      },
      "source": [
        "### Coi kỹ từng quan hệ giữa các cặp thuộc tính ['Active Cases', 'Total Deaths', 'Total Recovered', 'Total Cases']\n"
      ]
    },
    {
      "cell_type": "code",
      "execution_count": null,
      "metadata": {
        "colab": {
          "base_uri": "https://localhost:8080/",
          "height": 743
        },
        "id": "HwjLKkOCdo7s",
        "outputId": "25ca767d-555e-4a44-b6fd-cbccfa09e7d1"
      },
      "outputs": [],
      "source": [
        "plt.figure(figsize=(15,10))\n",
        "cols = ['Active Cases', 'Total Deaths', 'Total Recovered', 'Total Cases']\n",
        "sns.pairplot(data_df[cols],kind='scatter');"
      ]
    },
    {
      "cell_type": "markdown",
      "metadata": {
        "id": "iKqu1aT0gk_4"
      },
      "source": [
        "Nhận xét: `Total Recovered` & `Total Cases` có quan hệ tuyến tính. Ta sẽ xem thử có mối quan hệ nhân quả giữa 2 trường này trong mục 3"
      ]
    },
    {
      "cell_type": "markdown",
      "metadata": {
        "id": "N8tlsk_DZpEa"
      },
      "source": [
        "- 1 cách tổng quan, ta sẽ vẽ scatter plot cho toàn bộ các trường dữ liệu"
      ]
    },
    {
      "cell_type": "code",
      "execution_count": null,
      "metadata": {
        "id": "MeTCWpecdo40"
      },
      "outputs": [],
      "source": [
        "df_calculate = data_df[data_df.columns[1:]]\n",
        "sns.pairplot(df_calculate,kind='scatter')\n",
        "plt.show()"
      ]
    },
    {
      "cell_type": "markdown",
      "metadata": {
        "id": "FlHetTTkaEBb"
      },
      "source": [
        "Nhận xét: ..."
      ]
    },
    {
      "cell_type": "markdown",
      "metadata": {
        "id": "UL9_-RPuaFcL"
      },
      "source": [
        "### Active Cases & Total Recovered"
      ]
    },
    {
      "cell_type": "code",
      "execution_count": null,
      "metadata": {
        "id": "4TiIJ_6-do0q"
      },
      "outputs": [],
      "source": []
    },
    {
      "cell_type": "code",
      "execution_count": null,
      "metadata": {
        "id": "2jZ3dsgCcaTB"
      },
      "outputs": [],
      "source": []
    },
    {
      "cell_type": "markdown",
      "metadata": {},
      "source": [
        "### New Deaths & Another\n",
        "Tìm mối liên hệ giữa `New Deaths` và các thuộc tính khác có trong Table.<br>\n",
        "Chúng ta chỉ xét trên châu lục **Europe**"
      ]
    },
    {
      "cell_type": "code",
      "execution_count": null,
      "metadata": {},
      "outputs": [],
      "source": [
        "week_df.columns"
      ]
    },
    {
      "cell_type": "code",
      "execution_count": null,
      "metadata": {},
      "outputs": [],
      "source": [
        "df = week_df[week_df['continent'] == 'Europe'].groupby('day')[['New Cases', 'New Deaths', 'New Recovered', 'Active Cases', 'Serious']].sum()\n",
        "df = df.reset_index()\n",
        "\n",
        "df.head()"
      ]
    },
    {
      "cell_type": "code",
      "execution_count": null,
      "metadata": {},
      "outputs": [],
      "source": [
        "corrs = df[['New Cases', 'New Deaths', 'New Recovered', 'Active Cases']].corr()[['New Deaths']]\n",
        "\n",
        "plt.figure(figsize=(7, 5))\n",
        "sns.heatmap(data=corrs, cmap='BrBG', annot=True, vmax=1, vmin=-1);"
      ]
    },
    {
      "cell_type": "markdown",
      "metadata": {},
      "source": [
        "Ta thấy răng giữa `New Cases` và `New Deaths` có tương quan nhiều với nhau.<br>\n",
        "\n",
        "Xem xét trên góc nhìn hơn giữa cặp thuộc tính này:"
      ]
    },
    {
      "cell_type": "markdown",
      "metadata": {},
      "source": [
        "- Scatter plot"
      ]
    },
    {
      "cell_type": "code",
      "execution_count": null,
      "metadata": {},
      "outputs": [],
      "source": [
        "dc_df = df[['New Cases', 'New Deaths', 'day']]\n",
        "dc_df.head()"
      ]
    },
    {
      "cell_type": "code",
      "execution_count": null,
      "metadata": {},
      "outputs": [],
      "source": [
        "plt.figure(figsize=(10, 8))\n",
        "sns.scatterplot(x='New Deaths', y='New Cases', hue='day', data=dc_df, legend=False, s=100);\n",
        "x = dc_df['New Deaths'].values\n",
        "y = dc_df['New Cases'].values\n",
        "\n",
        "m, b = np.polyfit(x, y, 1)\n",
        "\n",
        "plt.plot(x, x*m + b, c='green');"
      ]
    },
    {
      "cell_type": "markdown",
      "metadata": {},
      "source": [
        "Nhận xét: ..."
      ]
    },
    {
      "cell_type": "code",
      "execution_count": null,
      "metadata": {},
      "outputs": [],
      "source": []
    },
    {
      "cell_type": "code",
      "execution_count": null,
      "metadata": {},
      "outputs": [],
      "source": []
    },
    {
      "cell_type": "markdown",
      "metadata": {
        "id": "-Gr3pYa546sf"
      },
      "source": [
        "## 3. Quan hệ nhân quả"
      ]
    },
    {
      "cell_type": "code",
      "execution_count": null,
      "metadata": {
        "id": "-9Y7ErKd5_eE"
      },
      "outputs": [],
      "source": [
        "# corr = df.corr()\n",
        "\n",
        "# mask = np.zeros_like(corr,dtype=bool)\n",
        "# mask[np.triu_indices_from(mask)] = True\n",
        "\n",
        "# f,ax = plt.subplots(figsize=(20,15))\n",
        "\n",
        "# cmap = sns.diverging_palette(220,10,as_cmap=True)\n",
        "\n",
        "# sns.heatmap(corr,mask=mask,cmap=cmap,center=0,square=True,linewidths=.5,cbar_kws={\"shrink\":0.5})\n",
        "\n",
        "# plt.show()"
      ]
    },
    {
      "cell_type": "markdown",
      "metadata": {
        "id": "uXO4odeE8cQF"
      },
      "source": [
        "Tính tương quan giữa các cột. Có thể thấy gần như các trường dữ liệu đều tỉ lệ thuận với nhau. Trường dữ liệu Total Cases ảnh hưởng rõ ràng nhất đối với các trường dữ liệu khác. Các cặp trường dữ liệu có ảnh hưởng nổi bật nhất là (Total Death,Total Case) (Total Death, Total Serious) ( Total Recovered, Active Case)( Total ReCovered, Total Tests)"
      ]
    },
    {
      "cell_type": "code",
      "execution_count": null,
      "metadata": {
        "id": "qFbMkCw0ENpc"
      },
      "outputs": [],
      "source": []
    },
    {
      "cell_type": "code",
      "execution_count": null,
      "metadata": {
        "id": "4WopZjcGvegZ"
      },
      "outputs": [],
      "source": []
    },
    {
      "cell_type": "code",
      "execution_count": null,
      "metadata": {
        "id": "gSUELRSTvejT"
      },
      "outputs": [],
      "source": []
    },
    {
      "cell_type": "code",
      "execution_count": null,
      "metadata": {
        "id": "9Dojky06velB"
      },
      "outputs": [],
      "source": []
    },
    {
      "cell_type": "code",
      "execution_count": null,
      "metadata": {
        "id": "zACfmSR5vem9"
      },
      "outputs": [],
      "source": [
        "# nháp\n",
        "###\n",
        "# plt.figure(figsize=(19,17))\n",
        "# for i in range(len(num_cols)):\n",
        "#     plt.subplot(3,4,i+1)\n",
        "#     plt.boxplot(df[num_cols[i]])\n",
        "#     plt.title(num_cols[i])"
      ]
    }
  ],
  "metadata": {
    "colab": {
      "collapsed_sections": [],
      "name": "Relationship",
      "provenance": [],
      "toc_visible": true
    },
    "kernelspec": {
      "display_name": "Python 3",
      "name": "python3"
    },
    "language_info": {
      "codemirror_mode": {
        "name": "ipython",
        "version": 3
      },
      "file_extension": ".py",
      "mimetype": "text/x-python",
      "name": "python",
      "nbconvert_exporter": "python",
      "pygments_lexer": "ipython3",
      "version": "3.8.5"
    }
  },
  "nbformat": 4,
  "nbformat_minor": 0
}
